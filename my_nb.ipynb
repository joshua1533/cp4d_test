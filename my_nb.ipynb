{
 "cells": [
  {
   "cell_type": "code",
   "execution_count": 1,
   "id": "01af1d99-b056-4914-84f1-d8b26d9d2984",
   "metadata": {
    "id": "ece343b0-6b0e-4dd9-820d-3b89fb293b84",
    "tags": []
   },
   "outputs": [
    {
     "name": "stdout",
     "output_type": "stream",
     "text": [
      "Bonjour\n"
     ]
    }
   ],
   "source": [
    "print('Bonjour')"
   ]
  },
  {
   "cell_type": "code",
   "execution_count": null,
   "id": "b5d678ba-43a9-43b1-a01e-07d6642cd653",
   "metadata": {
    "id": "b5d678ba-43a9-43b1-a01e-07d6642cd653"
   },
   "outputs": [],
   "source": []
  }
 ],
 "metadata": {
  "kernelspec": {
   "display_name": "Python 3.10",
   "language": "python",
   "name": "python3"
  },
  "language_info": {
   "codemirror_mode": {
    "name": "ipython",
    "version": 3
   },
   "file_extension": ".py",
   "mimetype": "text/x-python",
   "name": "python",
   "nbconvert_exporter": "python",
   "pygments_lexer": "ipython3",
   "version": "3.10.10"
  }
 },
 "nbformat": 4,
 "nbformat_minor": 5
}
