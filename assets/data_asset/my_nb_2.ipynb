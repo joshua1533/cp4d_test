{
 "cells": [
  {
   "cell_type": "code",
   "execution_count": 1,
   "id": "92e17072-0442-4520-9ee2-9847b3b149d6",
   "metadata": {
    "id": "593799b6-e191-4d38-9794-9faf5134c08d",
    "tags": []
   },
   "outputs": [
    {
     "name": "stdout",
     "output_type": "stream",
     "text": [
      "Bonjour\n"
     ]
    }
   ],
   "source": [
    "print('Bonjour')"
   ]
  },
  {
   "cell_type": "code",
   "execution_count": 1,
   "id": "e437fc0b-3c9f-4720-919b-979c6261443b",
   "metadata": {
    "id": "e437fc0b-3c9f-4720-919b-979c6261443b",
    "tags": []
   },
   "outputs": [
    {
     "name": "stdout",
     "output_type": "stream",
     "text": [
      "Bonjour2\n"
     ]
    }
   ],
   "source": [
    "print('Bonjour2')"
   ]
  },
  {
   "cell_type": "code",
   "execution_count": 2,
   "id": "198b2dd5-4d86-414e-acf5-2ad3d4bc89b2",
   "metadata": {
    "id": "198b2dd5-4d86-414e-acf5-2ad3d4bc89b2",
    "tags": []
   },
   "outputs": [
    {
     "name": "stdout",
     "output_type": "stream",
     "text": [
      "Bonjour3 - techzone\n"
     ]
    }
   ],
   "source": [
    "print('Bonjour3 - techzone')"
   ]
  },
  {
   "cell_type": "code",
   "execution_count": 3,
   "id": "431ceba6-d3e9-48f5-9f40-af81482672e1",
   "metadata": {
    "id": "431ceba6-d3e9-48f5-9f40-af81482672e1",
    "tags": []
   },
   "outputs": [
    {
     "name": "stdout",
     "output_type": "stream",
     "text": [
      "{'message': 'This time is 23-12-02 01:20:39'}\n"
     ]
    }
   ],
   "source": [
    "import requests\n",
    "\n",
    "api_url = \"http://121.190.220.39:40144/\"\n",
    "response = requests.get(api_url)\n",
    "response.json()\n",
    "\n",
    "print(response.json())\n"
   ]
  },
  {
   "cell_type": "code",
   "execution_count": null,
   "id": "2a4eac33-9489-4c1a-a254-8662ccabf5ac",
   "metadata": {
    "id": "2a4eac33-9489-4c1a-a254-8662ccabf5ac"
   },
   "outputs": [],
   "source": []
  }
 ],
 "metadata": {
  "kernelspec": {
   "display_name": "Python 3.10",
   "language": "python",
   "name": "python3"
  },
  "language_info": {
   "codemirror_mode": {
    "name": "ipython",
    "version": 3
   },
   "file_extension": ".py",
   "mimetype": "text/x-python",
   "name": "python",
   "nbconvert_exporter": "python",
   "pygments_lexer": "ipython3",
   "version": "3.10.10"
  }
 },
 "nbformat": 4,
 "nbformat_minor": 5
}
