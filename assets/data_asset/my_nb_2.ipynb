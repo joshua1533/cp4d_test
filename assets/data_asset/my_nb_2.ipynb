{
 "cells": [
  {
   "cell_type": "code",
   "execution_count": 1,
   "id": "92e17072-0442-4520-9ee2-9847b3b149d6",
   "metadata": {
    "id": "593799b6-e191-4d38-9794-9faf5134c08d",
    "tags": []
   },
   "outputs": [
    {
     "name": "stdout",
     "output_type": "stream",
     "text": [
      "Bonjour\n"
     ]
    }
   ],
   "source": [
    "print('Bonjour')"
   ]
  },
  {
   "cell_type": "code",
   "execution_count": 1,
   "id": "e437fc0b-3c9f-4720-919b-979c6261443b",
   "metadata": {
    "id": "e437fc0b-3c9f-4720-919b-979c6261443b",
    "tags": []
   },
   "outputs": [
    {
     "name": "stdout",
     "output_type": "stream",
     "text": [
      "Bonjour2\n"
     ]
    }
   ],
   "source": [
    "print('Bonjour2')"
   ]
  },
  {
   "cell_type": "code",
   "execution_count": null,
   "id": "198b2dd5-4d86-414e-acf5-2ad3d4bc89b2",
   "metadata": {
    "id": "198b2dd5-4d86-414e-acf5-2ad3d4bc89b2"
   },
   "outputs": [],
   "source": []
  }
 ],
 "metadata": {
  "kernelspec": {
   "display_name": "Python 3.10",
   "language": "python",
   "name": "python3"
  },
  "language_info": {
   "codemirror_mode": {
    "name": "ipython",
    "version": 3
   },
   "file_extension": ".py",
   "mimetype": "text/x-python",
   "name": "python",
   "nbconvert_exporter": "python",
   "pygments_lexer": "ipython3",
   "version": "3.10.10"
  }
 },
 "nbformat": 4,
 "nbformat_minor": 5
}
